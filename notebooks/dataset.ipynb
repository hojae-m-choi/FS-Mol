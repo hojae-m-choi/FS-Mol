{
 "cells": [
  {
   "cell_type": "markdown",
   "metadata": {},
   "source": [
    "# Using the FSMol Dataset\n",
    "\n",
    "The `FSMolDataset` class provides access to the train/valid/test tasks of our few-shot learning dataset on molecules.\n",
    "\n",
    "An instance is created from the data directory by `FSMolDataset.from_directory(/path/to/dataset)`.\n",
    "The data in the `train`, `validation` and `test` folds of the dataset can be accessed using `FSMolDataset.get_task_reading_iterable`.\n",
    "By default, this method simply reads in the individual data files using a number of background worker processes and provides them in a standard format, but this behavior can be customized by providing a specialized callback function.\n",
    "The default implementation returns an iterable over `FSMolTask` objects, each containing an entire task's of single featurised molecules, `MoleculeDatapoint`. "
   ]
  },
  {
   "cell_type": "code",
   "execution_count": 1,
   "metadata": {},
   "outputs": [],
   "source": [
    "# Setting up local details:\n",
    "import os\n",
    "import sys\n",
    "\n",
    "# This should be the location of the checkout of the FS-Mol repository:\n",
    "FS_MOL_CHECKOUT_PATH = os.path.join(os.environ['HOME'], \"work\", \"FS-Mol\")\n",
    "FS_MOL_DATASET_PATH = os.path.join(os.environ['HOME'], \"work\", \"FS-Mol\", \"datasets\", \"fs-mol\")\n",
    "\n",
    "os.chdir(FS_MOL_CHECKOUT_PATH)\n",
    "sys.path.insert(0, FS_MOL_CHECKOUT_PATH)"
   ]
  },
  {
   "cell_type": "markdown",
   "metadata": {},
   "source": [
    "## Example: Creating FSMolDataset and Accessing a Task\n",
    "\n",
    "First, we simply create a dataset and have a look at a single task:"
   ]
  },
  {
   "cell_type": "code",
   "execution_count": 2,
   "metadata": {},
   "outputs": [
    {
     "name": "stdout",
     "output_type": "stream",
     "text": [
      "CHEMBL2218962\n"
     ]
    }
   ],
   "source": [
    "from fs_mol.data import FSMolDataset, DataFold\n",
    "dataset = FSMolDataset.from_directory(FS_MOL_DATASET_PATH)\n",
    "\n",
    "valid_task_iterable = dataset.get_task_reading_iterable(DataFold.VALIDATION) # DataFold.VALIDATION, TRAIN, TEST\n",
    "task = next(iter(valid_task_iterable))\n",
    "print(task.name)"
   ]
  },
  {
   "cell_type": "code",
   "execution_count": 26,
   "id": "d87ab4f4",
   "metadata": {},
   "outputs": [
    {
     "name": "stdout",
     "output_type": "stream",
     "text": [
      "num of task: 40\n",
      "names of task: ['CHEMBL1243966', 'CHEMBL1614110', 'CHEMBL1614202', 'CHEMBL1614213', 'CHEMBL1614259', 'CHEMBL1614432', 'CHEMBL1738510', 'CHEMBL1963790', 'CHEMBL1963930', 'CHEMBL1964107', 'CHEMBL2218962', 'CHEMBL2219032', 'CHEMBL2219038', 'CHEMBL2219137', 'CHEMBL2219144', 'CHEMBL2219168', 'CHEMBL2219172', 'CHEMBL2219185', 'CHEMBL2219206', 'CHEMBL2219253', 'CHEMBL2219259', 'CHEMBL2219276', 'CHEMBL2219277', 'CHEMBL2219292', 'CHEMBL2219319', 'CHEMBL2219323', 'CHEMBL2219332', 'CHEMBL2219344', 'CHEMBL2219383', 'CHEMBL2354206', 'CHEMBL3705467', 'CHEMBL3705631', 'CHEMBL3705869', 'CHEMBL3705880', 'CHEMBL3706064', 'CHEMBL3706088', 'CHEMBL3882760', 'CHEMBL3888867', 'CHEMBL4260657', 'CHEMBL763161']\n"
     ]
    }
   ],
   "source": [
    "print( f'num of task: {dataset.get_num_fold_tasks(DataFold.VALIDATION)}',\n",
    "      f'names of task: {dataset.get_task_names(DataFold.VALIDATION)}', sep='\\n') # DataFold.VALIDATION, TRAIN, TEST"
   ]
  },
  {
   "attachments": {},
   "cell_type": "markdown",
   "metadata": {},
   "source": [
    "A task, by default, is simply a name and a list of datapoints, each stored as a `MoleculeDatapoint`, a dataclass with the following definition:\n",
    "\n",
    "```python\n",
    "@dataclass(frozen=True)\n",
    "class MoleculeDatapoint:\n",
    "    \"\"\"Data structure holding information for a single molecule.\n",
    "\n",
    "    Args:\n",
    "        task_name: String describing the task this datapoint is taken from.\n",
    "        smiles: SMILES string describing the molecule this datapoint corresponds to.\n",
    "        graph: GraphData object containing information about the molecule in graph representation\n",
    "            form, according to featurization chosen in preprocessing.\n",
    "        numeric_label: numerical label (e.g., activity), usually measured in the lab. (unit: nM see the fs_mol/preprocessing/clean.py:L111)\n",
    "        bool_label: bool classification label, usually derived from the numeric label using a\n",
    "            threshold.\n",
    "        fingerprint: optional ECFP for the molecule.\n",
    "        descriptors: optional phys-chem descriptors for the molecule.\n",
    "    \"\"\"\n",
    "\n",
    "    task_name: str\n",
    "    smiles: str\n",
    "    graph: GraphData\n",
    "    numeric_label: float\n",
    "    bool_label: bool\n",
    "    fingerprint: Optional[np.ndarray]\n",
    "    descriptors: Optional[np.ndarray]\n",
    "```"
   ]
  },
  {
   "cell_type": "code",
   "execution_count": 27,
   "metadata": {},
   "outputs": [
    {
     "data": {
      "text/plain": [
       "fs_mol.data.fsmol_task.MoleculeDatapoint"
      ]
     },
     "execution_count": 27,
     "metadata": {},
     "output_type": "execute_result"
    }
   ],
   "source": [
    "type(task.samples[0])"
   ]
  },
  {
   "cell_type": "code",
   "execution_count": 4,
   "id": "afc6165b",
   "metadata": {},
   "outputs": [],
   "source": [
    "sample = task.samples[0]"
   ]
  },
  {
   "cell_type": "code",
   "execution_count": 44,
   "id": "8523c181",
   "metadata": {},
   "outputs": [
    {
     "data": {
      "text/plain": [
       "dict_keys(['task_name', 'smiles', 'graph', 'numeric_label', 'bool_label', 'fingerprint', 'descriptors'])"
      ]
     },
     "execution_count": 44,
     "metadata": {},
     "output_type": "execute_result"
    }
   ],
   "source": [
    "sample.__dict__.keys()"
   ]
  },
  {
   "cell_type": "code",
   "execution_count": 13,
   "id": "a7783697",
   "metadata": {},
   "outputs": [
    {
     "name": "stdout",
     "output_type": "stream",
     "text": [
      "CHEMBL2218962, B, Nc1ncnc2c1c(-c1ccc(Oc3ccccc3)cc1)cn2C1CCCC1, False,  -1.0\n",
      "CHEMBL2219032, B, O=C1Nc2ccc(-c3cccnc3)cc2C1=Cc1ccc[nH]1, False,  -5.0\n",
      "CHEMBL2219038, B, COc1cc2nccc(Oc3ccc(NC(=O)Nc4cc(C)on4)c(Cl)c3)c2cc1OC, False,  -3.0\n",
      "CHEMBL2219168, B, O=C1NC(=O)C(c2c[nH]c3ccccc23)=C1c1c[nH]c2ccccc12, False,  0.0\n",
      "CHEMBL2219168, B, Cn1cc(/C=C2\\C(=O)Nc3ccc(S(N)(=O)=O)cc32)c2ccccc21, False,  0.0\n",
      "CHEMBL2219168, B, O=C1NC(=O)C(c2cn(CCCn3ccnc3)c3ccccc23)C1=Nc1ccccc1, False,  -1.0\n",
      "CHEMBL2219168, B, Cn1c2ccccc2c2c3c(c4c5ccccc5n(CCC#N)c4c21)CNC3=O, False,  -1.0\n",
      "CHEMBL2219168, B, COc1ccc2c(c1)c(C1=C(c3c[nH]c4ccccc34)C(=O)NC1=O)cn2CCCN(C)C, False,  -2.0\n",
      "CHEMBL2219168, B, O=C1Nc2ccc3ncsc3c2C1=Cc1c[nH]cn1, False,  -1.0\n",
      "CHEMBL2219168, B, CO[C@@H]1[C@H](N(C)C(=O)c2ccccc2)C[C@H]2O[C@]1(C)n1c3ccccc3c3c4c(c5c6ccccc6n2c5c31)C(=O)NC4, False,  0.0\n",
      "CHEMBL2219168, B, CN(C)CCCn1cc(C2=C(c3c[nH]c4ccccc34)C(=O)NC2=O)c2ccccc21, False,  -1.0\n",
      "CHEMBL2219168, B, CN[C@@H]1C[C@H]2O[C@@](C)([C@@H]1OC)n1c3ccccc3c3c4c(c5c6ccccc6n2c5c31)C(=O)NC4, False,  -1.0\n",
      "CHEMBL2219168, B, Nc1nc(Nc2ccc(S(N)(=O)=O)cc2)nn1C(=S)Nc1c(F)cccc1F, False,  -1.0\n",
      "CHEMBL2219168, B, N#Cc1cnc2cnc(NCc3cccnc3)cc2c1Nc1ccc(F)c(Cl)c1, False,  0.0\n",
      "CHEMBL2219172, B, CSc1nc(-c2ccc(F)cc2)c(-c2ccnc(NC(C)c3ccccc3)c2)[nH]1, False,  0.0\n",
      "CHEMBL2219172, B, O=c1c(-c2ccc(F)cc2)c(-c2ccncc2)[nH]n1-c1ccc(Cl)cc1, False,  0.0\n",
      "CHEMBL2219185, B, COC(=O)[C@@]1(O)C[C@H]2O[C@]1(C)n1c3ccccc3c3c4c(c5c6ccccc6n2c5c31)C(=O)NC4, False,  0.0\n",
      "CHEMBL2219185, B, Nc1nc(Nc2ccc(S(N)(=O)=O)cc2)nn1C(=S)Nc1c(F)cccc1F, False,  -2.0\n",
      "CHEMBL2219206, B, O=C1Nc2ccc(-c3cccnc3)cc2C1=Cc1ccc[nH]1, False,  0.0\n",
      "CHEMBL2219206, B, O=C1Nc2ccc3ncsc3c2C1=Cc1c[nH]cn1, False,  0.0\n",
      "CHEMBL2219206, B, CN[C@@H]1C[C@H]2O[C@@](C)([C@@H]1OC)n1c3ccccc3c3c4c(c5c6ccccc6n2c5c31)C(=O)NC4, False,  0.0\n",
      "CHEMBL2219206, B, Cc1cc(Nc2nc(-c3ccccc3)nc3ccccc23)[nH]n1, False,  0.0\n",
      "CHEMBL2219206, B, Nc1nc(Nc2ccc(S(N)(=O)=O)cc2)nn1C(=S)Nc1c(F)cccc1F, False,  -2.0\n",
      "CHEMBL2219259, B, CN[C@@H]1C[C@H]2O[C@@](C)([C@@H]1OC)n1c3ccccc3c3c4c(c5c6ccccc6n2c5c31)C(=O)NC4, False,  -1.0\n",
      "CHEMBL2219259, B, COC(=O)[C@@]1(O)C[C@H]2O[C@]1(C)n1c3ccccc3c3c4c(c5c6ccccc6n2c5c31)C(=O)NC4, False,  0.0\n",
      "CHEMBL2219259, B, Nc1nc(Nc2ccc(S(N)(=O)=O)cc2)nn1C(=S)Nc1c(F)cccc1F, False,  -1.0\n",
      "CHEMBL2219259, B, N#Cc1cnc2cnc(NCc3cccnc3)cc2c1Nc1ccc(F)c(Cl)c1, False,  -1.0\n",
      "CHEMBL2219276, B, CN[C@@H]1C[C@H]2O[C@@](C)([C@@H]1OC)n1c3ccccc3c3c4c(c5c6ccccc6n2c5c31)C(=O)NC4, False,  0.0\n",
      "CHEMBL2219277, B, CN[C@@H]1C[C@H]2O[C@@](C)([C@@H]1OC)n1c3ccccc3c3c4c(c5c6ccccc6n2c5c31)C(=O)NC4, False,  0.0\n",
      "CHEMBL2219292, B, C=c1c(C(=O)NCCN(CC)CC)c(C)[nH]c1=Cc1c(O)[nH]c2ccc(Cl)cc12, False,  0.0\n",
      "CHEMBL2219292, B, O=Nc1c(-c2c(O)[nH]c3ccccc23)[nH]c2ccccc12, False,  -3.0\n",
      "CHEMBL2219292, B, COC(=O)[C@@]1(O)C[C@H]2O[C@]1(C)n1c3ccccc3c3c4c(c5c6ccccc6n2c5c31)C(=O)NC4, False,  0.0\n",
      "CHEMBL2219292, B, CCn1cnc2c(Nc3cccc(Cl)c3)nc(N[C@@H]3CCCC[C@@H]3N)nc21, False,  -1.0\n",
      "CHEMBL2219292, B, O=C1N=c2ccccc2=C1c1[nH]c2ccccc2c1NOCCC(O)CO, False,  -1.0\n",
      "CHEMBL2219292, B, CC(C)[C@H](CO)Nc1nc(Nc2cccc(Cl)c2)c2ncn(C(C)C)c2n1, False,  0.0\n",
      "CHEMBL2219292, B, Nc1nc(Nc2ccc(S(N)(=O)=O)cc2)nn1C(=S)Nc1c(F)cccc1F, False,  -1.0\n",
      "CHEMBL2219292, B, CCN(CC)C(=O)c1ccc(Nc2nc(OCC3CCCCC3)c3[nH]cnc3n2)cc1, False,  0.0\n",
      "CHEMBL2219323, B, CN[C@@H]1C[C@H]2O[C@@](C)([C@@H]1OC)n1c3ccccc3c3c4c(c5c6ccccc6n2c5c31)C(=O)NC4, False,  -1.0\n",
      "CHEMBL2219323, B, COC(=O)[C@@]1(O)C[C@H]2O[C@]1(C)n1c3ccccc3c3c4c(c5c6ccccc6n2c5c31)C(=O)NC4, False,  0.0\n",
      "CHEMBL2219323, B, Nc1nc(Nc2ccc(S(N)(=O)=O)cc2)nn1C(=S)Nc1c(F)cccc1F, False,  0.0\n",
      "CHEMBL2219332, B, CC(C)(C)n1nc(Cc2cccc3ccccc23)c2c(N)ncnc21, False,  0.0\n",
      "CHEMBL2219332, B, O=C(c1cc2cc(O)ccc2[nH]1)c1cc2cc(O)ccc2[nH]1, False,  0.0\n",
      "CHEMBL2219332, B, Nc1ncnc2c1c(-c1ccc(Oc3ccccc3)cc1)cn2C1CCCC1, False,  0.0\n",
      "CHEMBL2219332, B, C=c1c(C(=O)NCCN(CC)CC)c(C)[nH]c1=Cc1c(O)[nH]c2ccc(Cl)cc12, False,  -1.0\n",
      "CHEMBL2219332, B, CN[C@@H]1C[C@H]2O[C@@](C)([C@@H]1OC)n1c3ccccc3c3c4c(c5c6ccccc6n2c5c31)C(=O)NC4, False,  0.0\n",
      "CHEMBL2219332, B, O=Nc1c(-c2c(O)[nH]c3ccccc23)[nH]c2ccccc12, False,  0.0\n",
      "CHEMBL2219332, B, N#CCCc1ccc2c(c1)-c1[nH]c3ccc([N+](=O)[O-])cc3c1CC(=O)N2, False,  0.0\n",
      "CHEMBL2219332, B, CC(C)[C@H](CO)Nc1nc(Nc2cccc(Cl)c2)c2ncn(C(C)C)c2n1, False,  0.0\n",
      "CHEMBL2219332, B, Nc1cccc(-c2cc3c(Oc4cccc(O)c4)ncnc3[nH]2)c1, False,  -1.0\n",
      "CHEMBL2219332, B, CC(C)[C@H](CO)Nc1nc(Nc2cc(N)cc(Cl)c2)c2ncn(C(C)C)c2n1, False,  0.0\n",
      "CHEMBL2219332, B, c1cc(-c2cnn3cc(-c4ccc(OCCN5CCCCC5)cc4)cnc23)ccn1, False,  0.0\n",
      "CHEMBL2219383, B, CN[C@@H]1C[C@H]2O[C@@](C)([C@@H]1OC)n1c3ccccc3c3c4c(c5c6ccccc6n2c5c31)C(=O)NC4, False,  -1.0\n",
      "CHEMBL2219383, B, COC(=O)[C@@]1(O)C[C@H]2O[C@]1(C)n1c3ccccc3c3c4c(c5c6ccccc6n2c5c31)C(=O)NC4, False,  0.0\n",
      "CHEMBL2219144, B, O=C(O)/C=C/c1cc(Br)c(Br)c(Br)c1Br, False,  -9.0\n",
      "CHEMBL763161, B, CN1C(C(=O)Nc2ccccc2)C(=O)c2ccccc2S1(=O)=O, False,  -18.0\n",
      "CHEMBL763161, B, Cc1ccc2c(=O)n(C)c(O)c(C(=O)Nc3ncc(C)s3)c2c1, False,  -10.0\n",
      "CHEMBL763161, B, CN1C(C(=O)Nc2ccccc2)C(=O)c2c(c3cc(Cl)ccc3n2C)S1(=O)=O, False,  -8.0\n",
      "CHEMBL763161, B, CN1C(C(=O)Nc2nc(C(F)(F)F)cs2)C(=O)c2ccccc2S1(=O)=O, False,  -52.0\n",
      "CHEMBL763161, B, O=C(Nc1cccc(Cl)c1)C1C[S+]([O-])c2ccc(Cl)cc2C1=O, False,  -40.0\n",
      "CHEMBL763161, B, Cc1cnc(NC(=O)C2CSc3ccc(Cl)cc3C2=O)s1, False,  -7.0\n",
      "CHEMBL763161, B, Cc1ccc2c(c1)S(=O)(=O)N(C)C(=O)C2C(=O)Nc1ccccc1Cl, False,  -2.0\n",
      "CHEMBL763161, B, CN1C(=O)C(C(=O)Nc2ccccn2)c2ccc(Cl)cc2S1(=O)=O, False,  -12.0\n",
      "CHEMBL763161, B, CN1C(C(=O)Nc2ccc(Cl)cc2)C(=O)c2cc(Cl)ccc2S1(=O)=O, False,  -34.0\n",
      "CHEMBL763161, B, Cc1coc(NC(=O)C2C(=O)c3ccccc3S(=O)(=O)N2C)n1, False,  -7.0\n",
      "CHEMBL763161, B, Cc1ccc2c(c1)C(=O)C(C(=O)Nc1ccc(Cl)cc1)N(C)S2(=O)=O, False,  -12.0\n",
      "CHEMBL763161, B, CN1C(C(=O)Nc2nccs2)C(=O)c2c(c3ccccc3n2C)S1(=O)=O, False,  -1.0\n",
      "CHEMBL763161, B, Cc1ccc2c(c1)S(=O)(=O)N(C)C(C(=O)Nc1ccccc1)C2=O, False,  -6.0\n",
      "CHEMBL763161, B, CN1C(C(=O)Nc2ccc(Cl)cc2)C(=O)c2cc(F)ccc2S1(=O)=O, False,  -42.0\n",
      "CHEMBL763161, B, Cc1cnc(NC(=O)C2C(=O)c3cc(C)sc3S(=O)(=O)N2C)s1, False,  -10.0\n",
      "CHEMBL763161, B, CN1C(C(=O)Nc2ccccc2)C(=O)c2cc(Cl)ccc2S1(=O)=O, False,  -6.0\n",
      "CHEMBL763161, B, CN1C(C(=O)Nc2ccccc2)C(=O)c2c(ccc3ccccc23)S1(=O)=O, False,  -5.0\n",
      "CHEMBL763161, B, CN1C(C(=O)Nc2ccccn2)C(=O)c2c(ccc3ccccc23)S1(=O)=O, False,  -3.0\n",
      "CHEMBL763161, B, CN1C(=O)C(C(=O)Nc2nccs2)c2c(ccc3ccccc23)S1(=O)=O, False,  -3.0\n",
      "CHEMBL763161, B, CN1C(C(=O)Nc2ccccc2)C(=O)c2ccc3ccccc3c2S1(=O)=O, False,  -29.0\n",
      "CHEMBL763161, B, CN1C(C(=O)Nc2ccccn2)C(=O)c2c(c3ccccc3n2C)S1(=O)=O, False,  -11.0\n",
      "CHEMBL763161, B, CCn1c2c(c3ccccc31)S(=O)(=O)N(C)C(C(=O)Nc1ccccn1)C2=O, False,  -3.0\n",
      "CHEMBL763161, B, CC1Sc2ccc(Cl)cc2C(=O)C1C(=O)Nc1ccccn1, False,  0.0\n",
      "CHEMBL763161, B, CN1C(C(=O)Nc2ccccn2)C(=O)c2sc3cc(Cl)ccc3c2S1(=O)=O, False,  -17.0\n",
      "CHEMBL763161, B, Cc1cc2c(s1)S(=O)(=O)N(C)C(C(=O)Nc1nccs1)C2=O, False,  -7.0\n",
      "CHEMBL763161, B, Cc1cc2c(o1)C(=O)C(C(=O)Nc1ncc(C)s1)N(C)S2(=O)=O, False,  -12.0\n",
      "CHEMBL763161, B, CN1C(C(=O)Nc2ccccc2)C(=O)c2cc(F)ccc2S1(=O)=O, False,  -39.0\n",
      "CHEMBL763161, B, Cn1c(C(=O)Nc2nccs2)c(O)c2ccccc2c1=O, False,  -5.0\n",
      "CHEMBL763161, B, CN1C(C(=O)Nc2ccc(Cl)cc2)C(=O)c2ccc3ccccc3c2S1(=O)=O, False,  -10.0\n"
     ]
    },
    {
     "data": {
      "text/plain": [
       "<AxesSubplot:>"
      ]
     },
     "execution_count": 13,
     "metadata": {},
     "output_type": "execute_result"
    },
    {
     "data": {
      "image/png": "[encoded data removed]",
      "text/plain": [
       "<Figure size 640x480 with 1 Axes>"
      ]
     },
     "metadata": {},
     "output_type": "display_data"
    }
   ],
   "source": [
    "import pandas as pd\n",
    "import numpy as np\n",
    "num_lab_li = []\n",
    "at_li = []\n",
    "name_li = []\n",
    "for task in dataset.get_task_reading_iterable(DataFold.VALIDATION):\n",
    "    for sample in task.samples:\n",
    "        if sample.numeric_label > 0 :\n",
    "            num_lab_li.append(sample.numeric_label)\n",
    "            at_li.append(sample.assay_type)\n",
    "            name_li.append(sample.task_name)\n",
    "        else:\n",
    "            print(f'{sample.task_name}, {sample.assay_type}, {sample.smiles}, {sample.bool_label},  {sample.numeric_label}')\n",
    "pd.Series(9-np.log10(np.array(num_lab_li))).hist(bins = 40)"
   ]
  },
  {
   "cell_type": "code",
   "execution_count": 7,
   "id": "736cb372",
   "metadata": {},
   "outputs": [
    {
     "data": {
      "text/plain": [
       "dict_keys(['node_features', 'adjacency_lists', 'edge_features'])"
      ]
     },
     "execution_count": 7,
     "metadata": {},
     "output_type": "execute_result"
    }
   ],
   "source": [
    "sample.graph.__dict__.keys()"
   ]
  },
  {
   "cell_type": "code",
   "execution_count": 12,
   "id": "2922e325",
   "metadata": {},
   "outputs": [
    {
     "name": "stdout",
     "output_type": "stream",
     "text": [
      "3\n"
     ]
    },
    {
     "data": {
      "text/plain": [
       "array([], shape=(0, 2), dtype=int64)"
      ]
     },
     "execution_count": 12,
     "metadata": {},
     "output_type": "execute_result"
    }
   ],
   "source": [
    "print(len(sample.graph.adjacency_lists))\n",
    "sample.graph.adjacency_lists[0] # SINGLE BONDS AS PAIRS\n",
    "sample.graph.adjacency_lists[1] # DOUBLE BONDS AS PAIRS\n",
    "sample.graph.adjacency_lists[2] # TRIPLE BONDS AS PAIRS\n",
    "\n",
    "# 이미 preprocessing 된게 파일로 저장돼있다."
   ]
  },
  {
   "cell_type": "markdown",
   "metadata": {},
   "source": [
    "## Example: Making a Task Sample\n",
    "\n",
    "In practice, all methods require that we sample from the `FSMolTask`s, for example during evaluation.\n",
    "To this end, we have implemented a number of samplers, extensions of the `TaskSampler` abstract class, which provides a unified `sample` method.\n",
    "The baseline models implemented in this repository use stratified sampling (implemented in `StratifiedTaskSampler`), but `RandomTaskSampler` and `BalancedTaskSampler` exist as alternatives.\n",
    "\n",
    "In practice, sampling often requires additional parameters, such as a minimal support set size, a minimal query set size, or an upper desired query set size. When a task dataset cannot be sampled using these parameters (e.g., because it's too small), a `SamplingException` exception is thrown and the caller can decide how to handle this. For example, during training, it is often reasonable to simply ignore such exceptions and pass over failure cases."
   ]
  },
  {
   "cell_type": "code",
   "execution_count": 15,
   "metadata": {},
   "outputs": [],
   "source": [
    "from fs_mol.data import StratifiedTaskSampler\n",
    "task_sampler = StratifiedTaskSampler(\n",
    "    train_size_or_ratio = 60, # default: 16\n",
    "    valid_size_or_ratio = 0.0,\n",
    "    test_size_or_ratio = 256, \n",
    "    allow_smaller_test = True\n",
    ")"
   ]
  },
  {
   "cell_type": "markdown",
   "metadata": {},
   "source": [
    "Applying a sampler returns a sample from the task, which contains a support/train set, validation set, and query/test set. In this case, the task is too small to return all requested testing samples, so it returns the maximum available."
   ]
  },
  {
   "cell_type": "code",
   "execution_count": 16,
   "metadata": {},
   "outputs": [
    {
     "name": "stdout",
     "output_type": "stream",
     "text": [
      "Number of samples in task: 201\n",
      "Number of train samples: 60\n",
      "Number of test samples: 141\n",
      "Number of valid samples: 0\n"
     ]
    }
   ],
   "source": [
    "task_sample = task_sampler.sample(task, seed=0)\n",
    "\n",
    "print(f\"Number of samples in task: {len(task.samples)}\")\n",
    "print(f\"Number of train samples: {len(task_sample.train_samples)}\")\n",
    "print(f\"Number of test samples: {len(task_sample.test_samples)}\")\n",
    "print(f\"Number of valid samples: {len(task_sample.valid_samples)}\")"
   ]
  },
  {
   "cell_type": "markdown",
   "metadata": {},
   "source": [
    "The samplers are built such that using the same seed will always return the same data split:"
   ]
  },
  {
   "cell_type": "code",
   "execution_count": 6,
   "metadata": {},
   "outputs": [
    {
     "name": "stdout",
     "output_type": "stream",
     "text": [
      "Task sample, seed 0, first call  - First training SMILES O=C(CNC(=O)c1ccc(Cl)cc1)OC(C(=O)Nc1cc(C(F)(F)F)ccc1Cl)c1ccccc1\n",
      "Task sample, seed 0, second call - First training SMILES O=C(CNC(=O)c1ccc(Cl)cc1)OC(C(=O)Nc1cc(C(F)(F)F)ccc1Cl)c1ccccc1\n",
      "Task sample, seed 1, first call  - First training SMILES CNc1oc(C=Cc2cc(OC)c(OC)c(OC)c2)nc1C#N\n"
     ]
    }
   ],
   "source": [
    "task_sample_0 = task_sampler.sample(task, seed=0)\n",
    "task_sample_1 = task_sampler.sample(task, seed=1)\n",
    "\n",
    "print(f\"Task sample, seed 0, first call  - First training SMILES {task_sample.train_samples[0].smiles}\")\n",
    "print(f\"Task sample, seed 0, second call - First training SMILES {task_sample_0.train_samples[0].smiles}\")\n",
    "print(f\"Task sample, seed 1, first call  - First training SMILES {task_sample_1.train_samples[0].smiles}\")"
   ]
  },
  {
   "cell_type": "markdown",
   "metadata": {},
   "source": [
    "## Example: Custom Task Reading Functions in MAML\n",
    "\n",
    "When implementing models on top of FS-Mol, it is often useful to specialize the callback used in `get_task_reading_iterable`, for example to directly draw appropriate samples or do further featurization.\n",
    "\n",
    "In MAML, we for example need to use stratified samples in each training step:\n",
    "\n",
    "```python\n",
    "task_sampler = StratifiedTaskSampler(\n",
    "    train_size_or_ratio=train_size,\n",
    "    valid_size_or_ratio=0,\n",
    "    test_size_or_ratio=(min_test_size, test_size),\n",
    ")\n",
    "\n",
    "def read_and_sample_from_task(paths: List[RichPath], id: int) -> Iterable[FSMolTaskSample]:\n",
    "    for i, path in enumerate(paths):\n",
    "        task = FSMolTask.load_from_file(path)\n",
    "        yield task_sampler.sample(task, seed=id + i)\n",
    "\n",
    "train_task_samples = dataset.get_task_reading_iterable(\n",
    "    data_fold=DataFold.TRAIN, task_reader_fn=read_and_sample_from_task\n",
    ")\n",
    "```\n",
    "\n",
    "In this instance, `train_task_samples` will now be an `Iterable` of sampled tasks."
   ]
  },
  {
   "cell_type": "markdown",
   "metadata": {},
   "source": [
    "## Batching Task Samples\n",
    "\n",
    "The `fs_mol.data` package also provides infrastructure for minibatching, using the `FSMolBatcher` class.\n",
    "These are framework-agnostic, and are used both for TensorFlow (in our MAML baseline) and Torch (in our MAT and Multitask baselines).\n",
    "Concretely, an `FSMolBatcher` object can be used to turn a list of datapoints into a sequence of minibatches.\n",
    "Our graph models handle batches of graphs as a single graph in which the samples appear as disconnected components. This is already implemented by our default implementation of `FSMolBatcher`, and so consumers only need to provide thing extensions."
   ]
  },
  {
   "cell_type": "markdown",
   "metadata": {},
   "source": [
    "### Example: GNN Multitask Batching\n",
    "\n",
    "As example, consider the GNN Multitask model (see `fs_mol/data/multitask.py` for full code), which needs to include the task ID for each sample. To do this, we extend the `FSMolBatcher` class using the callback hooks for initializing, extending and finalizing a batch:\n",
    "\n",
    "```python\n",
    "def multitask_batcher_init_fn(batch_data: Dict[str, Any]):\n",
    "    batch_data[\"sample_to_task_id\"] = []\n",
    "\n",
    "def multitask_batcher_add_sample_fn(\n",
    "    batch_data: Dict[str, Any],\n",
    "    sample_id: int,\n",
    "    sample: MoleculeDatapoint,\n",
    "    task_name_to_id: Dict[str, int],\n",
    "):\n",
    "    batch_data[\"sample_to_task_id\"].append(task_name_to_id[sample.task_name])\n",
    "\n",
    "def multitask_batcher_finalizer_fn(\n",
    "    batch_data: Dict[str, Any]\n",
    ") -> Tuple[FSMolMultitaskBatch, np.ndarray]:\n",
    "    plain_batch = fsmol_batch_finalizer(batch_data)\n",
    "    return (\n",
    "        FSMolMultitaskBatch(\n",
    "            sample_to_task_id=np.stack(batch_data[\"sample_to_task_id\"], axis=0),\n",
    "            **dataclasses.asdict(plain_batch),\n",
    "        ),\n",
    "        np.stack(batch_data[\"bool_labels\"], axis=0),\n",
    "    )\n",
    "\n",
    "def get_multitask_batcher(\n",
    "    task_name_to_id: Dict[str, int],\n",
    "    max_num_graphs: Optional[int] = None,\n",
    "    max_num_nodes: Optional[int] = None,\n",
    "    max_num_edges: Optional[int] = None,\n",
    ") -> FSMolBatcher[FSMolMultitaskBatch, np.ndarray]:\n",
    "    return FSMolBatcher(\n",
    "        max_num_graphs=max_num_graphs,\n",
    "        max_num_nodes=max_num_nodes,\n",
    "        max_num_edges=max_num_edges,\n",
    "        init_callback=multitask_batcher_init_fn,\n",
    "        per_datapoint_callback=partial(\n",
    "            multitask_batcher_add_sample_fn, task_name_to_id=task_name_to_id\n",
    "        ),\n",
    "        finalizer_callback=multitask_batcher_finalizer_fn,\n",
    "    )\n",
    "```\n",
    "\n",
    "This batcher is then used to create batches of up to `num_chunked_tasks` loaded in parallel as follows:\n",
    "\n",
    "```python\n",
    "def paths_to_mixed_samples(\n",
    "    paths: List[RichPath], idx: int\n",
    ") -> Iterable[Tuple[FSMolMultitaskBatch, np.ndarray]]:\n",
    "    loaded_samples: List[MoleculeDatapoint] = []\n",
    "    for i, path in enumerate(paths):\n",
    "        task = FSMolTask.load_from_file(path)\n",
    "        task_sample = self._task_sampler.sample(task, seed=idx + i)\n",
    "        loaded_samples.extend(task_sample.train_samples)\n",
    "    if self._data_fold == DataFold.TRAIN:\n",
    "        np.random.shuffle(loaded_samples)\n",
    "\n",
    "    for features, labels in self._batcher.batch(loaded_samples):\n",
    "        yield features, labels\n",
    "\n",
    "task_iterable = self._dataset.get_task_reading_iterable(\n",
    "    data_fold=self._data_fold,\n",
    "    task_reader_fn=paths_to_mixed_samples,\n",
    "    reader_chunk_size=self._num_chunked_tasks,\n",
    ")\n",
    "```"
   ]
  },
  {
   "cell_type": "markdown",
   "metadata": {},
   "source": [
    "### Example: MAML Batching\n",
    "\n",
    "We can similarly use this from a Tensorflow model, namely our MAML implementation (see `fs_mol/data/maml.py`). Here, we created a `TFGraphBatchIterable` class that uses a `FSMolBatcher` using a customized `finalizer_callback` to produce a batch suitable for consumption in our model:"
   ]
  },
  {
   "cell_type": "code",
   "execution_count": 7,
   "metadata": {},
   "outputs": [
    {
     "name": "stdout",
     "output_type": "stream",
     "text": [
      "({'node_features': array([[0., 0., 0., ..., 1., 0., 0.],\n",
      "       [0., 1., 0., ..., 1., 0., 0.],\n",
      "       [0., 1., 0., ..., 1., 0., 0.],\n",
      "       ...,\n",
      "       [0., 0., 0., ..., 1., 0., 0.],\n",
      "       [0., 1., 0., ..., 1., 0., 1.],\n",
      "       [0., 0., 1., ..., 1., 0., 1.]], dtype=float32), 'node_to_graph_map': array([0, 0, 0, 0, 0, 0, 0, 0, 0, 0, 0, 0, 0, 0, 0, 0, 0, 0, 0, 0, 0, 0,\n",
      "       0, 0, 0, 0, 0, 0, 0, 0, 0, 0, 0, 0, 0, 1, 1, 1, 1, 1, 1, 1, 1, 1,\n",
      "       1, 1, 1, 1, 1, 1, 1, 1, 1, 1, 1, 1, 1, 1, 1, 1, 1, 2, 2, 2, 2, 2,\n",
      "       2, 2, 2, 2, 2, 2, 2, 2, 2, 2, 2, 2, 2, 2, 2, 2, 2], dtype=int32), 'num_graphs_in_batch': 3, 'adjacency_list_0': array([[ 1,  2],\n",
      "       [ 2,  3],\n",
      "       [ 3,  4],\n",
      "       [ 4,  6],\n",
      "       [ 7,  8],\n",
      "       [ 9, 10],\n",
      "       [ 9, 11],\n",
      "       [ 1, 13],\n",
      "       [13, 14],\n",
      "       [14, 15],\n",
      "       [15, 17],\n",
      "       [17, 18],\n",
      "       [19, 20],\n",
      "       [20, 21],\n",
      "       [21, 22],\n",
      "       [21, 23],\n",
      "       [21, 24],\n",
      "       [25, 26],\n",
      "       [27, 28],\n",
      "       [14, 29],\n",
      "       [30, 31],\n",
      "       [32, 33],\n",
      "       [12,  6],\n",
      "       [27, 18],\n",
      "       [34, 29],\n",
      "       [36, 37],\n",
      "       [38, 39],\n",
      "       [39, 40],\n",
      "       [40, 41],\n",
      "       [42, 43],\n",
      "       [44, 45],\n",
      "       [40, 47],\n",
      "       [48, 49],\n",
      "       [50, 51],\n",
      "       [53, 54],\n",
      "       [54, 55],\n",
      "       [55, 56],\n",
      "       [57, 58],\n",
      "       [60, 37],\n",
      "       [46, 41],\n",
      "       [52, 47],\n",
      "       [59, 55],\n",
      "       [62, 63],\n",
      "       [64, 65],\n",
      "       [65, 66],\n",
      "       [66, 67],\n",
      "       [67, 68],\n",
      "       [68, 69],\n",
      "       [68, 70],\n",
      "       [71, 72],\n",
      "       [72, 73],\n",
      "       [73, 74],\n",
      "       [75, 76],\n",
      "       [76, 77],\n",
      "       [78, 79],\n",
      "       [79, 80],\n",
      "       [82, 63],\n",
      "       [81, 74]], dtype=int32), 'edge_features_0': array([], shape=(58, 0), dtype=float32), 'adjacency_list_1': array([[ 0,  1],\n",
      "       [ 4,  5],\n",
      "       [ 6,  7],\n",
      "       [ 8,  9],\n",
      "       [11, 12],\n",
      "       [15, 16],\n",
      "       [18, 19],\n",
      "       [20, 25],\n",
      "       [26, 27],\n",
      "       [29, 30],\n",
      "       [31, 32],\n",
      "       [33, 34],\n",
      "       [37, 38],\n",
      "       [41, 42],\n",
      "       [43, 44],\n",
      "       [45, 46],\n",
      "       [47, 48],\n",
      "       [49, 50],\n",
      "       [51, 52],\n",
      "       [39, 53],\n",
      "       [56, 57],\n",
      "       [58, 59],\n",
      "       [54, 60],\n",
      "       [63, 64],\n",
      "       [65, 71],\n",
      "       [74, 75],\n",
      "       [76, 78],\n",
      "       [79, 81],\n",
      "       [72, 82]], dtype=int32), 'edge_features_1': array([], shape=(29, 0), dtype=float32), 'adjacency_list_2': array([[35, 36],\n",
      "       [61, 62]], dtype=int32), 'edge_features_2': array([], shape=(2, 0), dtype=float32)}, {'target_value': array([0., 1., 1.], dtype=float32)})\n"
     ]
    }
   ],
   "source": [
    "from fs_mol.data.maml import TFGraphBatchIterable\n",
    "batched_data = TFGraphBatchIterable(\n",
    "    samples=task_sample.train_samples,\n",
    "    shuffle=True,\n",
    "    max_num_nodes=100,\n",
    ")\n",
    "\n",
    "print(next(iter(batched_data)))"
   ]
  }
 ],
 "metadata": {
  "interpreter": {
   "hash": "e06fcc65451699fab52210cecc89ce74d347871d8379f3a65371b5502fcda228"
  },
  "kernelspec": {
   "display_name": "Python 3.7.10 64-bit ('fsmol': conda)",
   "name": "python3"
  },
  "language_info": {
   "codemirror_mode": {
    "name": "ipython",
    "version": 3
   },
   "file_extension": ".py",
   "mimetype": "text/x-python",
   "name": "python",
   "nbconvert_exporter": "python",
   "pygments_lexer": "ipython3",
   "version": "3.7.10"
  }
 },
 "nbformat": 4,
 "nbformat_minor": 5
}
